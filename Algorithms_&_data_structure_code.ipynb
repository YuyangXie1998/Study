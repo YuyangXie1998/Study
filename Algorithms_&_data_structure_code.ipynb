{
  "nbformat": 4,
  "nbformat_minor": 0,
  "metadata": {
    "colab": {
      "name": "Algorithms & data structure code.ipynb",
      "provenance": [],
      "collapsed_sections": [],
      "authorship_tag": "ABX9TyNZZkoGJqRif5eePDyFS+Sg",
      "include_colab_link": true
    },
    "kernelspec": {
      "name": "python3",
      "display_name": "Python 3"
    },
    "language_info": {
      "name": "python"
    }
  },
  "cells": [
    {
      "cell_type": "markdown",
      "metadata": {
        "id": "view-in-github",
        "colab_type": "text"
      },
      "source": [
        "<a href=\"https://colab.research.google.com/github/YuyangXie1998/Study/blob/main/Algorithms_%26_data_structure_code.ipynb\" target=\"_parent\"><img src=\"https://colab.research.google.com/assets/colab-badge.svg\" alt=\"Open In Colab\"/></a>"
      ]
    },
    {
      "cell_type": "markdown",
      "source": [
        "# 1."
      ],
      "metadata": {
        "id": "PjwQWN_9fhK4"
      }
    },
    {
      "cell_type": "code",
      "source": [
        "my_list = [1024, 3, True, 6.5]\n",
        "my_list.append(False)\n",
        "print(my_list)\n",
        "my_list.insert(2,4.5)\n",
        "print(my_list)\n",
        "print(my_list.pop())\n",
        "print(my_list)\n",
        "print(my_list.pop(1))\n",
        "print(my_list)\n",
        "my_list.pop(2)\n",
        "print(my_list)\n",
        "my_list.sort()\n",
        "print(my_list)\n",
        "my_list.reverse()\n",
        "print(my_list)\n",
        "print(my_list.count(6.5))\n",
        "print(my_list.index(4.5))\n",
        "my_list.remove(6.5)\n",
        "print(my_list)\n",
        "del my_list[0]\n",
        "print(my_list)"
      ],
      "metadata": {
        "colab": {
          "base_uri": "https://localhost:8080/"
        },
        "id": "QfSC9X6AP4PE",
        "outputId": "dccb068a-790e-4d87-acc8-24ce146f4104"
      },
      "execution_count": null,
      "outputs": [
        {
          "output_type": "stream",
          "name": "stdout",
          "text": [
            "[1024, 3, True, 6.5, False]\n",
            "[1024, 3, 4.5, True, 6.5, False]\n",
            "False\n",
            "[1024, 3, 4.5, True, 6.5]\n",
            "3\n",
            "[1024, 4.5, True, 6.5]\n",
            "[1024, 4.5, 6.5]\n",
            "[4.5, 6.5, 1024]\n",
            "[1024, 6.5, 4.5]\n",
            "1\n",
            "2\n",
            "[1024, 4.5]\n",
            "[4.5]\n"
          ]
        }
      ]
    },
    {
      "cell_type": "code",
      "source": [
        "word_list = ['cat','dog','rabbit']\n",
        "letter_list = [ ]\n",
        "for a_word in word_list:\n",
        "   for a_letter in a_word:\n",
        "      letter_list.append(a_letter)\n",
        "print(letter_list)"
      ],
      "metadata": {
        "colab": {
          "base_uri": "https://localhost:8080/"
        },
        "id": "7Pt7WgxAP7Ix",
        "outputId": "0f77dcfc-d0cd-4b57-c717-d56087c85aaa"
      },
      "execution_count": null,
      "outputs": [
        {
          "output_type": "stream",
          "name": "stdout",
          "text": [
            "['c', 'a', 't', 'd', 'o', 'g', 'r', 'a', 'b', 'b', 'i', 't']\n"
          ]
        }
      ]
    },
    {
      "cell_type": "code",
      "source": [
        "word_list = ['cat','dog','rabbit']\n",
        "letter_list = [ ]\n",
        "for a_word in word_list:\n",
        "   for a_letter in a_word:\n",
        "      if a_letter not in letter_list:\n",
        "        letter_list.append(a_letter)\n",
        "print(letter_list)"
      ],
      "metadata": {
        "colab": {
          "base_uri": "https://localhost:8080/"
        },
        "id": "p1n1dPGdIgho",
        "outputId": "434a52ac-6ca1-4100-e03a-733f1ac99a52"
      },
      "execution_count": null,
      "outputs": [
        {
          "output_type": "stream",
          "name": "stdout",
          "text": [
            "['c', 'a', 't', 'd', 'o', 'g', 'r', 'b', 'i']\n"
          ]
        }
      ]
    },
    {
      "cell_type": "code",
      "source": [
        "#word_list = ['cat','dog','rabbit']\n",
        "#[letter_list.append(a_letter) for a_word in ['cat','dog','rabbit'] for a_letter in a_word]???\n",
        "[word[i] for word in ['cat','dog','rabbit'] for i in range(len(word))]"
      ],
      "metadata": {
        "colab": {
          "base_uri": "https://localhost:8080/"
        },
        "id": "oHmM7_GKJFvc",
        "outputId": "d22c31a3-e72f-4fcd-9b84-c7c9ba9d020d"
      },
      "execution_count": null,
      "outputs": [
        {
          "output_type": "execute_result",
          "data": {
            "text/plain": [
              "['c', 'a', 't', 'd', 'o', 'g', 'r', 'a', 'b', 'b', 'i', 't']"
            ]
          },
          "metadata": {},
          "execution_count": 22
        }
      ]
    },
    {
      "cell_type": "code",
      "source": [
        "print(list(set([word[i] for word in ['cat','dog','rabbit'] for i in range(len(word))])))"
      ],
      "metadata": {
        "colab": {
          "base_uri": "https://localhost:8080/"
        },
        "id": "OlcNADD-Kts6",
        "outputId": "9f5b849d-dffd-4556-a235-e7631dc840cd"
      },
      "execution_count": null,
      "outputs": [
        {
          "output_type": "stream",
          "name": "stdout",
          "text": [
            "['d', 'i', 'r', 'o', 't', 'c', 'a', 'b', 'g']\n"
          ]
        }
      ]
    },
    {
      "cell_type": "markdown",
      "source": [
        "# 2. "
      ],
      "metadata": {
        "id": "KkMoUKCPfjV4"
      }
    },
    {
      "cell_type": "code",
      "source": [
        "def anagram_solution1(s1,s2):\n",
        "   a_list = list(s2)\n",
        "   pos1 = 0\n",
        "   still_ok = True\n",
        "   while pos1 < len(s1) and still_ok:\n",
        "      pos2 = 0\n",
        "      found = False\n",
        "      while pos2 < len(a_list) and not found:\n",
        "         if s1[pos1] == a_list[pos2]:\n",
        "            found = True\n",
        "         else:\n",
        "            pos2 = pos2 + 1\n",
        "      if found:\n",
        "         a_list[pos2] = None\n",
        "      else:\n",
        "         still_ok = False\n",
        "      pos1 = pos1 + 1\n",
        "   return still_ok\n",
        "\n",
        "print(anagram_solution1('abcd','dcba'))"
      ],
      "metadata": {
        "colab": {
          "base_uri": "https://localhost:8080/"
        },
        "id": "VYQ_O6YePn3M",
        "outputId": "45529585-9493-450c-a100-7d6c49d29855"
      },
      "execution_count": null,
      "outputs": [
        {
          "output_type": "stream",
          "name": "stdout",
          "text": [
            "True\n"
          ]
        }
      ]
    },
    {
      "cell_type": "code",
      "source": [
        "def anagram_solution2(s1,s2):\n",
        "   a_list1 = list(s1)\n",
        "   a_list2 = list(s2)\n",
        "   a_list1.sort()\n",
        "   a_list2.sort()\n",
        "   pos = 0\n",
        "   matches = True\n",
        "   while pos < len(s1) and matches:\n",
        "      if a_list1[pos] == a_list2[pos]:\n",
        "         pos = pos + 1\n",
        "      else:\n",
        "         matches = False\n",
        "   return matches\n",
        "\n",
        "print(anagram_solution2('abcde','edcba'))"
      ],
      "metadata": {
        "colab": {
          "base_uri": "https://localhost:8080/"
        },
        "id": "eTBEsMSTHCiw",
        "outputId": "6ccd5458-4f25-4bf9-bdff-9f179c4e241a"
      },
      "execution_count": null,
      "outputs": [
        {
          "output_type": "stream",
          "name": "stdout",
          "text": [
            "True\n"
          ]
        }
      ]
    },
    {
      "cell_type": "code",
      "source": [
        "def anagram_solution4(s1, s2):\n",
        "  c1 = [0] * 26\n",
        "  c2 = [0] * 26\n",
        "\n",
        "  for i in range(len(s1)):\n",
        "    pos = ord(s1[i]) - ord('a')\n",
        "    c1[pos] = c1[pos] + 1\n",
        "  for i in range(len(s2)):\n",
        "    pos = ord(s2[i]) - ord('a')\n",
        "    c2[pos] = c2[pos] + 1\n",
        "\n",
        "  j=0\n",
        "  still_ok = True\n",
        "  \n",
        "  while j < 26 and still_ok:\n",
        "    if c1[j] == c2[j]:\n",
        "      j=j+1\n",
        "    else:\n",
        "      still_ok = False\n",
        "  return still_ok\n",
        "\n",
        "print(anagram_solution4('apple','pleap'))"
      ],
      "metadata": {
        "colab": {
          "base_uri": "https://localhost:8080/"
        },
        "id": "agCnPPxKHhnU",
        "outputId": "dbb37ad9-6f73-4167-cdff-ce4187d39249"
      },
      "execution_count": null,
      "outputs": [
        {
          "output_type": "stream",
          "name": "stdout",
          "text": [
            "True\n"
          ]
        }
      ]
    },
    {
      "cell_type": "markdown",
      "source": [
        "# 3."
      ],
      "metadata": {
        "id": "X_yhHCOdy_Xg"
      }
    },
    {
      "cell_type": "code",
      "source": [
        "class Stack:\n",
        "  def __init__(self):\n",
        "    self.items = []\n",
        "  def is_empty(self):\n",
        "    return self.items == []\n",
        "  def push(self, item):\n",
        "    self.items.insert(0, item)\n",
        "  def pop(self):\n",
        "    return self.items.pop(0)\n",
        "  def peek(self):\n",
        "    return self.items[0]\n",
        "  def size(self):\n",
        "    return len(self.items)\n",
        "s = Stack()\n",
        "s.push('hello')\n",
        "s.push('true')\n",
        "print(s.pop())"
      ],
      "metadata": {
        "colab": {
          "base_uri": "https://localhost:8080/"
        },
        "id": "_7V6dm2R3447",
        "outputId": "c9043c46-f0e4-4017-ec1a-c8badb1db252"
      },
      "execution_count": null,
      "outputs": [
        {
          "output_type": "stream",
          "name": "stdout",
          "text": [
            "true\n"
          ]
        }
      ]
    },
    {
      "cell_type": "code",
      "source": [
        "class Stack:\n",
        "  def __init__(self):\n",
        "    self.items = []\n",
        "  def is_empty(self):\n",
        "    return self.items == []\n",
        "  def push(self, item):\n",
        "    self.items.insert(0, item)\n",
        "  def pop(self):\n",
        "    return self.items.pop(0)\n",
        "  def peek(self):\n",
        "    return self.items[0]\n",
        "  def size(self):\n",
        "    return len(self.items)\n",
        "s = Stack()\n",
        "s.push('hello')\n",
        "s.push('true')\n",
        "print(s.pop())\n",
        "\n",
        "\n",
        "#import Stack # As previously defined\n",
        "\n",
        "# Completed extended par_checker for: [,{,(,),},]\n",
        "def par_checker(symbol_string):\n",
        "    s = Stack()\n",
        "    balanced = True\n",
        "    index = 0\n",
        "    while index < len(symbol_string) and balanced:\n",
        "        symbol = symbol_string[index]\n",
        "        if symbol in \"([{\":\n",
        "            s.push(symbol)\n",
        "        else:\n",
        "            if s.is_empty():\n",
        "                balanced = False\n",
        "            else:\n",
        "                top = s.pop()\n",
        "                if not matches(top, symbol):\n",
        "                    balanced = False\n",
        "        index = index + 1\n",
        "        if balanced and s.is_empty():\n",
        "            return True\n",
        "        else:\n",
        "            return False\n",
        "\n",
        "def matches(open, close):\n",
        "    opens = \"([{\"\n",
        "    closes = \")]}\"\n",
        "    return opens.index(open) == closes.index(close)\n",
        "\n",
        "print(par_checker('{{([][])}()}'))\n",
        "print(par_checker('[{()]'))"
      ],
      "metadata": {
        "colab": {
          "base_uri": "https://localhost:8080/"
        },
        "id": "woo1iqIuNDPt",
        "outputId": "6e8988b0-04cb-4bd7-c44f-2a995a8cc107"
      },
      "execution_count": null,
      "outputs": [
        {
          "output_type": "stream",
          "name": "stdout",
          "text": [
            "true\n",
            "False\n",
            "False\n"
          ]
        }
      ]
    },
    {
      "cell_type": "code",
      "source": [
        "class Stack:\n",
        "    def __init__(self):\n",
        "        self.items = []\n",
        "    def is_empty(self):\n",
        "        return self.items == []\n",
        "    def push(self, item):\n",
        "        self.items.insert(0, item)\n",
        "    def pop(self):\n",
        "        return self.items.pop(0)\n",
        "    def peek(self):\n",
        "        return self.items[0]\n",
        "    def size(self):\n",
        "        return len(self.items)\n",
        "s = Stack()\n",
        "s.push('hello')\n",
        "s.push('true')\n",
        "print(s.pop())\n",
        "\n",
        "\n",
        "#import Stack # As previously defined\n",
        "def divide_by_2(dec_number):\n",
        "    rem_stack = Stack()\n",
        "    while dec_number > 0:\n",
        "        rem = dec_number % 2\n",
        "        rem_stack.push(rem)\n",
        "        dec_number = dec_number // 2\n",
        "    bin_string = \"\"\n",
        "    while not rem_stack.is_empty():\n",
        "        bin_string = bin_string + str(rem_stack.pop())\n",
        "    return bin_string\n",
        "\n",
        "print(divide_by_2(42))"
      ],
      "metadata": {
        "colab": {
          "base_uri": "https://localhost:8080/"
        },
        "id": "SX4QUatuzyOP",
        "outputId": "a44348a7-8573-4ded-c792-92e2408b18da"
      },
      "execution_count": null,
      "outputs": [
        {
          "output_type": "stream",
          "name": "stdout",
          "text": [
            "true\n",
            "101010\n"
          ]
        }
      ]
    },
    {
      "cell_type": "code",
      "source": [
        "class Stack:\n",
        "    def __init__(self):\n",
        "        self.items = []\n",
        "    def is_empty(self):\n",
        "        return self.items == []\n",
        "    def push(self, item):\n",
        "        self.items.insert(0, item)\n",
        "    def pop(self):\n",
        "        return self.items.pop(0)\n",
        "    def peek(self):\n",
        "        return self.items[0]\n",
        "    def size(self):\n",
        "        return len(self.items)\n",
        "s = Stack()\n",
        "s.push('hello')\n",
        "s.push('true')\n",
        "print(s.pop())\n",
        "\n",
        "\n",
        "#import Stack # As previously defined\n",
        "def base_converter(dec_number, base):\n",
        "    digits = \"0123456789ABCDEF\"\n",
        "    rem_stack = Stack()\n",
        "    while dec_number > 0:\n",
        "        rem = dec_number % base\n",
        "        rem_stack.push(rem)\n",
        "        dec_number = dec_number // base\n",
        "    new_string = \"\"\n",
        "    while not rem_stack.is_empty():\n",
        "        new_string = new_string + digits[rem_stack.pop()]\n",
        "    return new_string\n",
        "\n",
        "print(base_converter(25, 2))\n",
        "print(base_converter(25, 16))"
      ],
      "metadata": {
        "colab": {
          "base_uri": "https://localhost:8080/"
        },
        "id": "JflMxhdi3-L9",
        "outputId": "2bbd1fb7-f9d5-4865-8e52-56adff6d2f7e"
      },
      "execution_count": null,
      "outputs": [
        {
          "output_type": "stream",
          "name": "stdout",
          "text": [
            "true\n",
            "11001\n",
            "19\n"
          ]
        }
      ]
    },
    {
      "cell_type": "code",
      "source": [
        "# Completed implementation of a queue ADT\n",
        "class Queue:\n",
        "    def __init__(self):\n",
        "        self.items = []\n",
        "    def is_empty(self):\n",
        "        return self.items == []\n",
        "    def enqueue(self, item):\n",
        "        self.items.insert(0,item)\n",
        "    def dequeue(self):\n",
        "        return self.items.pop()\n",
        "    def size(self):\n",
        "        return len(self.items)"
      ],
      "metadata": {
        "id": "vXG6iUuc5srl"
      },
      "execution_count": null,
      "outputs": []
    },
    {
      "cell_type": "code",
      "source": [
        "class Queue:\n",
        "    def __init__(self):\n",
        "        self.items = []\n",
        "    def is_empty(self):\n",
        "        return self.items == []\n",
        "    def enqueue(self, item):\n",
        "        self.items.insert(0,item)\n",
        "    def dequeue(self):\n",
        "        return self.items.pop()\n",
        "    def size(self):\n",
        "        return len(self.items)\n",
        "\n",
        "#import Queue # As previously defined\n",
        "def hot_potato(name_list, num):\n",
        "    sim_queue = Queue()\n",
        "    for name in name_list:\n",
        "        sim_queue.enqueue(name)\n",
        "    while sim_queue.size() > 1:\n",
        "        for i in range(num):\n",
        "            sim_queue.enqueue(sim_queue.dequeue())\n",
        "        sim_queue.dequeue()\n",
        "    return sim_queue.dequeue()\n",
        "\n",
        "print(hot_potato([\"Bill\", \"David\", \"Susan\", \"Jane\", \"Kent\", \"Brad\"], 7))"
      ],
      "metadata": {
        "colab": {
          "base_uri": "https://localhost:8080/"
        },
        "id": "Q27DaefBWY4E",
        "outputId": "21d1d953-4efb-43f5-dc1e-f03f34a8eb2e"
      },
      "execution_count": null,
      "outputs": [
        {
          "output_type": "stream",
          "name": "stdout",
          "text": [
            "Susan\n"
          ]
        }
      ]
    },
    {
      "cell_type": "code",
      "source": [
        "class Queue:\n",
        "    def __init__(self):\n",
        "        self.items = []\n",
        "    def is_empty(self):\n",
        "        return self.items == []\n",
        "    def enqueue(self, item):\n",
        "        self.items.insert(0,item)\n",
        "    def dequeue(self):\n",
        "        return self.items.pop()\n",
        "    def size(self):\n",
        "        return len(self.items)\n",
        "\n",
        "\n",
        "import random\n",
        "class Task:\n",
        "    def __init__(self, time):\n",
        "        self.timestamp = time\n",
        "        self.pages = random.randrange(1, 21)\n",
        "    def get_stamp(self):\n",
        "        return self.timestamp\n",
        "    def get_pages(self):\n",
        "        return self.pages\n",
        "    def wait_time(self, current_time):\n",
        "        return current_time - self.timestamp\n",
        "\n",
        "\n",
        "#import Queue  # As previously defined\n",
        "import random\n",
        "# Completed program for the printer simulation\n",
        "class Printer:\n",
        "    def __init__(self, ppm):\n",
        "        self.page_rate = ppm\n",
        "        self.current_task = None\n",
        "        self.time_remaining = 0\n",
        "    def tick(self):\n",
        "        if self.current_task != None:\n",
        "            self.time_remaining = self.time_remaining - 1\n",
        "            if self.time_remaining <= 0:\n",
        "                self.current_task = None\n",
        "    def busy(self):\n",
        "        if self.current_task != None:\n",
        "            return True\n",
        "        else:\n",
        "            return False\n",
        "    def start_next(self, new_task):\n",
        "        self.current_task = new_task\n",
        "        self.time_remaining = new_task.get_pages() * 60/self.page_rate\n",
        "\n",
        "\n",
        "class Task:\n",
        "    def __init__(self, time):\n",
        "        self.timestamp = time\n",
        "        self.pages = random.randrange(1, 21)\n",
        "    def get_stamp(self):\n",
        "        return self.timestamp\n",
        "    def get_pages(self):\n",
        "        return self.pages\n",
        "    def wait_time(self, current_time):\n",
        "        return current_time - self.timestamp\n",
        "\n",
        "\n",
        "def simulation(num_seconds, pages_per_minute):\n",
        "    lab_printer = Printer(pages_per_minute)\n",
        "    print_queue = Queue()\n",
        "    waiting_times = []\n",
        "    \n",
        "    for current_second in range(num_seconds):\n",
        "        \n",
        "        if new_print_task():\n",
        "            task = Task(current_second)\n",
        "            print_queue.enqueue(task)\n",
        "        \n",
        "        if (not lab_printer.busy()) and (not print_queue.is_empty()):\n",
        "            next_task = print_queue.dequeue()\n",
        "            waiting_times.append(next_task.wait_time(current_second))\n",
        "            lab_printer.startNext(next_task)\n",
        "        \n",
        "        lab_printer.tick()\n",
        "    \n",
        "    average_wait = sum(waiting_times) / len(waiting_times)\n",
        "    print(\"Average Wait %6.2f secs %3d tasks remaining.\" %(average_wait, print_queue.size()))\n",
        "\n",
        "\n",
        "def new_print_task():\n",
        "    num = random.randrange(1, 181)\n",
        "    if num == 180:\n",
        "        return True\n",
        "    else:\n",
        "        return False\n",
        "\n",
        "for i in range(10):\n",
        "    simulation(3600, 5)"
      ],
      "metadata": {
        "id": "ctPfUlsvTkDY"
      },
      "execution_count": null,
      "outputs": []
    },
    {
      "cell_type": "code",
      "source": [
        "# Completed implementation of a deque ADT\n",
        "class Deque:\n",
        "   def __init__(self):\n",
        "      self.items = []\n",
        "   def is_empty(self):\n",
        "      return self.items == []\n",
        "   def add_front(self, item):\n",
        "      self.items.append(item)\n",
        "   def add_rear(self, item):\n",
        "      self.items.insert(0,item)\n",
        "   def remove_front(self):\n",
        "      return self.items.pop()\n",
        "   def remove_rear(self):\n",
        "      return self.items.pop(0)\n",
        "   def size(self):\n",
        "      return len(self.items)"
      ],
      "metadata": {
        "id": "kxm23fVsYN4t"
      },
      "execution_count": null,
      "outputs": []
    },
    {
      "cell_type": "code",
      "source": [
        "class Deque:\n",
        "   def __init__(self):\n",
        "      self.items = []\n",
        "   def is_empty(self):\n",
        "      return self.items == []\n",
        "   def add_front(self, item):\n",
        "      self.items.append(item)\n",
        "   def add_rear(self, item):\n",
        "      self.items.insert(0,item)\n",
        "   def remove_front(self):\n",
        "      return self.items.pop()\n",
        "   def remove_rear(self):\n",
        "      return self.items.pop(0)\n",
        "   def size(self):\n",
        "      return len(self.items)\n",
        "\n",
        "#import Deque  # As previously defined\n",
        "def pal_checker(a_string):\n",
        "   char_deque = Deque()\n",
        "   for ch in a_string:\n",
        "      char_deque.add_rear(ch)\n",
        "   still_equal = True\n",
        "   while char_deque.size() > 1 and still_equal:\n",
        "      first = char_deque.remove_front()\n",
        "      last = char_deque.remove_rear()\n",
        "      if first != last:\n",
        "         still_equal = False\n",
        "   return still_equal\n",
        "\n",
        "print(pal_checker(\"lsdkjfskf\"))\n",
        "print(pal_checker(\"radar\"))"
      ],
      "metadata": {
        "id": "wnDkRsm5Rq44"
      },
      "execution_count": null,
      "outputs": []
    },
    {
      "cell_type": "code",
      "source": [
        "class Node:\n",
        "    def __init__(self, init_data):\n",
        "        self.data = init_data\n",
        "        self.next = None\n",
        "    def get_data(self):\n",
        "        return self.data\n",
        "    def get_next(self):\n",
        "        return self.next\n",
        "    def set_data(self, new_data):\n",
        "        self.data = new_data\n",
        "    def set_next(self, new_next):\n",
        "        self.next = new_next\n",
        "\n",
        "class UnorderedList:\n",
        "    def __init__(self):\n",
        "        self.head = None\n",
        "    def is_empty(self):\n",
        "        return self.head == None\n",
        "    def add(self, item):\n",
        "        temp = Node(item)\n",
        "        temp.set_next(self.head)\n",
        "        self.head = temp\n",
        "    def size(self):\n",
        "        current = self.head\n",
        "        count = 0\n",
        "        while current != None:\n",
        "            count = count + 1\n",
        "            current = current.get_next()\n",
        "        return count\n",
        "    def search(self,item):\n",
        "        current = self.head\n",
        "        found = False\n",
        "        while current != None and not found:\n",
        "            if current.get_data() == item:\n",
        "                found = True\n",
        "            else:\n",
        "                current = current.get_next()\n",
        "        return found\n",
        "    def remove(self, item):\n",
        "        current = self.head\n",
        "        previous = None\n",
        "        found = False\n",
        "        while not found:\n",
        "            if current.get_data() == item:\n",
        "                found = True\n",
        "            else:\n",
        "                previous = current\n",
        "                current = current.get_next()\n",
        "        \n",
        "        if previous == None:\n",
        "            self.head = current.get_next()\n",
        "        else:\n",
        "            previous.set_next(current.get_next())\n",
        "\n",
        "\n",
        "class OrderedList:\n",
        "    def __init__(self):\n",
        "        self.head = None\n",
        "    def search(self, item):\n",
        "        current = self.head\n",
        "        found = False\n",
        "        stop = False\n",
        "        while current != None and not found and not stop:\n",
        "            if current.get_data() == item:\n",
        "                found = True\n",
        "            else:\n",
        "                if current.get_data() > item:\n",
        "                    stop = True\n",
        "                else:\n",
        "                    current = current.get_next()\n",
        "        return found\n",
        "    def add(self, item):\n",
        "        current = self.head\n",
        "        previous = None\n",
        "        stop = False\n",
        "        while current != None and not stop:\n",
        "            if current.get_data() > item:\n",
        "                stop = True\n",
        "            else:\n",
        "                previous = current\n",
        "                current = current.get_next()\n",
        "        temp = Node(item)\n",
        "        if previous == None:\n",
        "            temp.set_next(self.head)\n",
        "            self.head = temp\n",
        "        else:\n",
        "            temp.set_next(current)\n",
        "            previous.set_next(temp)\n"
      ],
      "metadata": {
        "id": "7bdfYmCPtekB"
      },
      "execution_count": null,
      "outputs": []
    },
    {
      "cell_type": "markdown",
      "source": [
        "# 4."
      ],
      "metadata": {
        "id": "k4l73FQ9VJjr"
      }
    },
    {
      "cell_type": "code",
      "source": [
        "def list_sum(num_list):\n",
        "    the_sum = 0\n",
        "    for i in num_list:\n",
        "        the_sum = the_sum + i\n",
        "    return the_sum\n",
        "\n",
        "print(list_sum([1,3,5,7,9]))\n",
        "\n",
        "\n",
        "def list_sum(num_list):\n",
        "    if len(num_list) == 1:\n",
        "        return num_list[0]\n",
        "    else:\n",
        "        return num_list[0] + list_sum(num_list[1:])\n",
        "\n",
        "print(list_sum([1,3,5,7,9]))"
      ],
      "metadata": {
        "colab": {
          "base_uri": "https://localhost:8080/"
        },
        "id": "eQuza-geVKUX",
        "outputId": "7f1769c3-c657-43dd-9d7b-e1298674e99c"
      },
      "execution_count": null,
      "outputs": [
        {
          "output_type": "stream",
          "name": "stdout",
          "text": [
            "25\n",
            "25\n"
          ]
        }
      ]
    },
    {
      "cell_type": "code",
      "source": [
        "def ordered_sequential_search(a_list, item):\n",
        "    pos = 0\n",
        "    found = False\n",
        "    stop = False\n",
        "    while pos < len(a_list) and not found and not stop:\n",
        "        if a_list[pos] == item:\n",
        "            found = True\n",
        "        else:\n",
        "            if a_list[pos] > item:\n",
        "                stop = True\n",
        "            else:\n",
        "                pos = pos+1\n",
        "    return found\n",
        "\n",
        "test_list = [0, 1, 2, 8, 13, 17, 19, 32, 42,]\n",
        "print(ordered_sequential_search(test_list, 3))\n",
        "print(ordered_sequential_search(test_list, 13))"
      ],
      "metadata": {
        "colab": {
          "base_uri": "https://localhost:8080/"
        },
        "id": "R9h2VoB9eVYS",
        "outputId": "28b98a7c-2ccf-47ba-f25b-84cb316b022e"
      },
      "execution_count": null,
      "outputs": [
        {
          "output_type": "stream",
          "name": "stdout",
          "text": [
            "False\n",
            "True\n"
          ]
        }
      ]
    },
    {
      "cell_type": "code",
      "source": [
        "def binary_search(a_list, item):\n",
        "    first = 0\n",
        "    last = len(a_list) - 1\n",
        "    found = False\n",
        "    \n",
        "    while first <= last and not found:\n",
        "        midpoint = (first + last) // 2\n",
        "        if a_list[midpoint] == item:\n",
        "            found = True\n",
        "        else:\n",
        "            if item < a_list[midpoint]:\n",
        "                last = midpoint - 1\n",
        "            else:\n",
        "                first = midpoint + 1\n",
        "    return found\n",
        "\n",
        "test_list = [0, 1, 2, 8, 13, 17, 19, 32, 42,]\n",
        "print(binary_search(test_list, 3))\n",
        "print(binary_search(test_list, 13))"
      ],
      "metadata": {
        "colab": {
          "base_uri": "https://localhost:8080/"
        },
        "id": "s42ivSQ6m-nS",
        "outputId": "f5da9165-9dce-4dec-cb77-758152b11a86"
      },
      "execution_count": null,
      "outputs": [
        {
          "output_type": "stream",
          "name": "stdout",
          "text": [
            "False\n",
            "True\n"
          ]
        }
      ]
    },
    {
      "cell_type": "markdown",
      "source": [
        "# 5."
      ],
      "metadata": {
        "id": "s_KKmZRsluFl"
      }
    },
    {
      "cell_type": "code",
      "source": [
        "class HashTable:\n",
        "    def __init__(self):\n",
        "        self.size = 11\n",
        "        self.slots = [None] * self.size\n",
        "        self.data = [None] * self.size\n",
        "\n",
        "    def put(self, key, data):\n",
        "        hash_value = self.hash_function(key,len(self.slots))\n",
        "        if self.slots[hash_value] == None:\n",
        "            self.slots[hash_value] = key\n",
        "            self.data[hash_value] = data\n",
        "        else:\n",
        "            if self.slots[hash_value] == key:\n",
        "                self.data[hash_value] = data #replace\n",
        "            else:\n",
        "                next_slot = self.rehash(hash_value, len(self.slots))\n",
        "                while self.slots[next_slot] != None and \\\n",
        "                            self.slots[next_slot] != key:\n",
        "                    next_slot = self.rehash(next_slot, len(self.slots))\n",
        "                if self.slots[next_slot] == None:\n",
        "                    self.slots[next_slot] = key\n",
        "                    self.data[next_slot] = data\n",
        "                else:\n",
        "                    self.data[next_slot] = data #replace\n",
        "    \n",
        "    def hash_function(self, key, size):\n",
        "        return key % size\n",
        "    \n",
        "    def rehash(self, old_hash, size):\n",
        "        return (old_hash + 1) % size\n",
        "    \n",
        "    def get(self, key):\n",
        "        start_slot = self.hash_function(key, len(self.slots))\n",
        "        data = None\n",
        "        stop = False\n",
        "        found = False\n",
        "        position = start_slot\n",
        "        while self.slots[position] != None and \\\n",
        "                        not found and not stop:\n",
        "            if self.slots[position] == key:\n",
        "                found = True\n",
        "                data = self.data[position]\n",
        "            else:\n",
        "                position=self.rehash(position, len(self.slots))\n",
        "            if position == start_slot:\n",
        "                stop = True\n",
        "        return data\n",
        "    \n",
        "    def __getitem__(self, key):\n",
        "        return self.get(key)\n",
        "    \n",
        "    def __setitem__(self, key, data):\n",
        "        self.put(key, data)"
      ],
      "metadata": {
        "id": "-XzOlZscoJ6G"
      },
      "execution_count": null,
      "outputs": []
    },
    {
      "cell_type": "code",
      "source": [
        "def bubble_sort(a_list):\n",
        "    for pass_num in range(len(a_list) - 1, 0, -1):\n",
        "        for i in range(pass_num):\n",
        "            if a_list[i] > a_list[i + 1]:\n",
        "                temp = a_list[i]\n",
        "                a_list[i] = a_list[i + 1]\n",
        "                a_list[i + 1] = temp\n",
        "\n",
        "a_list = [54, 26, 93, 17, 77, 31, 44, 55, 20]\n",
        "bubble_sort(a_list)\n",
        "print(a_list)"
      ],
      "metadata": {
        "colab": {
          "base_uri": "https://localhost:8080/"
        },
        "id": "zq-rMGsHorlw",
        "outputId": "5622fd88-6bea-410d-fc24-afd57bbe8273"
      },
      "execution_count": null,
      "outputs": [
        {
          "output_type": "stream",
          "name": "stdout",
          "text": [
            "[17, 20, 26, 31, 44, 54, 55, 77, 93]\n"
          ]
        }
      ]
    },
    {
      "cell_type": "code",
      "source": [
        "def selection_sort(a_list):\n",
        "    for fill_slot in range(len(a_list) - 1, 0, -1):\n",
        "        pos_of_max = 0\n",
        "        for location in range(1, fill_slot + 1):\n",
        "            if a_list[location] > a_list[pos_of_max]:\n",
        "                pos_of_max = location\n",
        "        temp = a_list[fill_slot]\n",
        "        a_list[fill_slot] = a_list[pos_of_max]\n",
        "        a_list[pos_of_max] = temp\n",
        "\n",
        "a_list = [54, 26, 93, 17, 77, 31, 44, 55, 20]\n",
        "selection_sort(a_list)\n",
        "print(a_list)"
      ],
      "metadata": {
        "colab": {
          "base_uri": "https://localhost:8080/"
        },
        "id": "qy7SCSVVotnP",
        "outputId": "81a69d57-8ad0-45de-df5a-ef39d803b29a"
      },
      "execution_count": null,
      "outputs": [
        {
          "output_type": "stream",
          "name": "stdout",
          "text": [
            "[17, 20, 26, 31, 44, 54, 55, 77, 93]\n"
          ]
        }
      ]
    },
    {
      "cell_type": "code",
      "source": [
        "def insertion_sort(a_list):\n",
        "    for index in range(1, len(a_list)):\n",
        "        current_value = a_list[index]\n",
        "        position = index\n",
        "        while position > 0 and a_list[position - 1] > current_value:\n",
        "            a_list[position] = a_list[position - 1]\n",
        "            position = position - 1\n",
        "        a_list[position] = current_value\n",
        "\n",
        "a_list = [54, 26, 93, 17, 77, 31, 44, 55, 20]\n",
        "insertion_sort(a_list)\n",
        "print(a_list)"
      ],
      "metadata": {
        "colab": {
          "base_uri": "https://localhost:8080/"
        },
        "id": "s-n18cMhpqqi",
        "outputId": "6516e875-7d99-4c1e-d358-451226b9c146"
      },
      "execution_count": null,
      "outputs": [
        {
          "output_type": "stream",
          "name": "stdout",
          "text": [
            "[17, 20, 26, 31, 44, 54, 55, 77, 93]\n"
          ]
        }
      ]
    },
    {
      "cell_type": "code",
      "source": [
        "def shell_sort(a_list):\n",
        "    sublist_count = len(a_list) // 2\n",
        "    while sublist_count > 0:\n",
        "        for start_position in range(sublist_count):\n",
        "            gap_insertion_sort(a_list, start_position, sublist_count)\n",
        "        \n",
        "        print(\"After increments of size\", sublist_count, \"The list is\", a_list)\n",
        "        \n",
        "        sublist_count = sublist_count // 2\n",
        "\n",
        "def gap_insertion_sort(a_list, start, gap):\n",
        "    for i in range(start + gap, len(a_list), gap):\n",
        "        current_value = a_list[i]\n",
        "        position = i\n",
        "        while position >= gap and a_list[position - gap] > current_value:\n",
        "            a_list[position] = a_list[position - gap]\n",
        "            position = position - gap\n",
        "            \n",
        "        a_list[position] = current_value\n",
        "\n",
        "a_list = [54, 26, 93, 17, 77, 31, 44, 55, 20]\n",
        "shell_sort(a_list)\n",
        "print(a_list)"
      ],
      "metadata": {
        "colab": {
          "base_uri": "https://localhost:8080/"
        },
        "id": "ZlUpUbMPp7ui",
        "outputId": "577e84d3-b49b-4a6b-85ae-9ededa608104"
      },
      "execution_count": null,
      "outputs": [
        {
          "output_type": "stream",
          "name": "stdout",
          "text": [
            "After increments of size 4 The list is [20, 26, 44, 17, 54, 31, 93, 55, 77]\n",
            "After increments of size 2 The list is [20, 17, 44, 26, 54, 31, 77, 55, 93]\n",
            "After increments of size 1 The list is [17, 20, 26, 31, 44, 54, 55, 77, 93]\n",
            "[17, 20, 26, 31, 44, 54, 55, 77, 93]\n"
          ]
        }
      ]
    },
    {
      "cell_type": "code",
      "source": [
        "def merge_sort(a_list):\n",
        "    print(\"Splitting \", a_list)\n",
        "    if len(a_list) > 1:\n",
        "        mid = len(a_list) // 2\n",
        "        left_half = a_list[:mid]\n",
        "        right_half = a_list[mid:]\n",
        "        \n",
        "        merge_sort(left_half)\n",
        "        merge_sort(right_half)\n",
        "        \n",
        "        i=0\n",
        "        j=0\n",
        "        k=0\n",
        "\n",
        "        while i < len(left_half) and j < len(right_half):\n",
        "            if left_half[i] < right_half[j]:\n",
        "                a_list[k] = left_half[i]\n",
        "                i=i+1\n",
        "            else:\n",
        "                a_list[k] = right_half[j]\n",
        "                j=j+1\n",
        "            k=k+1\n",
        "        \n",
        "        while i < len(left_half):\n",
        "            a_list[k] = left_half[i]\n",
        "            i=i+1\n",
        "            k=k+1\n",
        "        \n",
        "        while j < len(right_half):\n",
        "            a_list[k] = right_half[j]\n",
        "            j=j+1\n",
        "            k=k+1\n",
        "        \n",
        "    print(\"Merging \", a_list)\n",
        "\n",
        "a_list = [54, 26, 93, 17, 77, 31, 44, 55, 20]\n",
        "merge_sort(a_list)\n",
        "print(a_list)"
      ],
      "metadata": {
        "colab": {
          "base_uri": "https://localhost:8080/"
        },
        "id": "33skCVaAqhsj",
        "outputId": "aeafad8d-7daa-4a78-b017-d7979169f55c"
      },
      "execution_count": null,
      "outputs": [
        {
          "output_type": "stream",
          "name": "stdout",
          "text": [
            "Splitting  [54, 26, 93, 17, 77, 31, 44, 55, 20]\n",
            "Splitting  [54, 26, 93, 17]\n",
            "Splitting  [54, 26]\n",
            "Splitting  [54]\n",
            "Merging  [54]\n",
            "Splitting  [26]\n",
            "Merging  [26]\n",
            "Merging  [26, 54]\n",
            "Splitting  [93, 17]\n",
            "Splitting  [93]\n",
            "Merging  [93]\n",
            "Splitting  [17]\n",
            "Merging  [17]\n",
            "Merging  [17, 93]\n",
            "Merging  [17, 26, 54, 93]\n",
            "Splitting  [77, 31, 44, 55, 20]\n",
            "Splitting  [77, 31]\n",
            "Splitting  [77]\n",
            "Merging  [77]\n",
            "Splitting  [31]\n",
            "Merging  [31]\n",
            "Merging  [31, 77]\n",
            "Splitting  [44, 55, 20]\n",
            "Splitting  [44]\n",
            "Merging  [44]\n",
            "Splitting  [55, 20]\n",
            "Splitting  [55]\n",
            "Merging  [55]\n",
            "Splitting  [20]\n",
            "Merging  [20]\n",
            "Merging  [20, 55]\n",
            "Merging  [20, 44, 55]\n",
            "Merging  [20, 31, 44, 55, 77]\n",
            "Merging  [17, 20, 26, 31, 44, 54, 55, 77, 93]\n",
            "[17, 20, 26, 31, 44, 54, 55, 77, 93]\n"
          ]
        }
      ]
    },
    {
      "cell_type": "code",
      "source": [
        "def quick_sort(a_list):\n",
        "    quick_sort_helper(a_list, 0, len(a_list) - 1)\n",
        "\n",
        "def quick_sort_helper(a_list, first, last):\n",
        "    if first < last:\n",
        "        split_point = partition(a_list, first, last)\n",
        "        quick_sort_helper(a_list, first, split_point - 1)\n",
        "        quick_sort_helper(a_list, split_point + 1, last)\n",
        "\n",
        "def partition(a_list, first, last):\n",
        "    pivot_value = a_list[first]\n",
        "    left_mark = first + 1\n",
        "    right_mark = last\n",
        "    done = False\n",
        "    while not done:\n",
        "        while left_mark <= right_mark and a_list[left_mark] <= pivot_value:\n",
        "            left_mark = left_mark + 1\n",
        "        while a_list[right_mark] >= pivot_value and right_mark >= left_mark:\n",
        "            right_mark = right_mark - 1\n",
        "        if right_mark < left_mark:\n",
        "            done = True\n",
        "        else:\n",
        "            temp = a_list[left_mark]\n",
        "            a_list[left_mark] = a_list[right_mark]\n",
        "            a_list[right_mark] = temp\n",
        "    \n",
        "    temp = a_list[first]\n",
        "    a_list[first] = a_list[right_mark]\n",
        "    a_list[right_mark] = temp\n",
        "    return right_mark\n",
        "\n",
        "a_list = [54, 26, 93, 17, 77, 31, 44, 55, 20]\n",
        "quick_sort(a_list)\n",
        "print(a_list)"
      ],
      "metadata": {
        "colab": {
          "base_uri": "https://localhost:8080/"
        },
        "id": "_5hlG1B1rayo",
        "outputId": "30770be5-d2ea-46bf-fe6f-97662cf045a6"
      },
      "execution_count": null,
      "outputs": [
        {
          "output_type": "stream",
          "name": "stdout",
          "text": [
            "[17, 20, 26, 31, 44, 54, 55, 77, 93]\n"
          ]
        }
      ]
    },
    {
      "cell_type": "markdown",
      "source": [
        "# 6."
      ],
      "metadata": {
        "id": "v5sfl0vWNBeQ"
      }
    },
    {
      "cell_type": "code",
      "source": [
        "def binary_tree(r):\n",
        "    return [r, [], []]\n",
        "def insert_left(root, new_branch):\n",
        "    t = root.pop(1)\n",
        "    if len(t) > 1:\n",
        "        root.insert(1, [new_branch, t, []])\n",
        "    else:\n",
        "        root.insert(1, [new_branch, [], []])\n",
        "    return root\n",
        "def insert_right(root, new_branch):\n",
        "    t = root.pop(2)\n",
        "    if len(t) > 1:\n",
        "        root.insert(2, [new_branch, [], t])\n",
        "    else:\n",
        "        root.insert(2, [new_branch, [], []])\n",
        "    return root\n",
        "def get_root_val(root):\n",
        "    return root[0]\n",
        "def set_root_val(root, new_val):\n",
        "    root[0] = new_val\n",
        "def get_left_child(root):\n",
        "    return root[1]\n",
        "def get_right_child(root):\n",
        "    return root[2]\n",
        "\n",
        "r = binary_tree(3)\n",
        "insert_left(r, 4)\n",
        "insert_left(r, 5)\n",
        "insert_right(r, 6)\n",
        "insert_right(r, 7)\n",
        "l = get_left_child(r)\n",
        "print(l)\n",
        "set_root_val(l, 9)\n",
        "print(r)\n",
        "insert_left(l, 11)\n",
        "print(r)\n",
        "print(get_right_child(get_right_child(r)))"
      ],
      "metadata": {
        "colab": {
          "base_uri": "https://localhost:8080/"
        },
        "id": "u7WKL2WvsQx5",
        "outputId": "abca80a5-d103-44bb-a7c8-d9ca40429023"
      },
      "execution_count": null,
      "outputs": [
        {
          "output_type": "stream",
          "name": "stdout",
          "text": [
            "[5, [4, [], []], []]\n",
            "[3, [9, [4, [], []], []], [7, [], [6, [], []]]]\n",
            "[3, [9, [11, [4, [], []], []], []], [7, [], [6, [], []]]]\n",
            "[6, [], []]\n"
          ]
        }
      ]
    },
    {
      "cell_type": "code",
      "source": [
        ""
      ],
      "metadata": {
        "id": "5VzkG8UeNKW-"
      },
      "execution_count": null,
      "outputs": []
    }
  ]
}